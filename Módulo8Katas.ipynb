{
 "cells": [
  {
   "cell_type": "markdown",
   "metadata": {},
   "source": [
    "# Administración de datos con Diccionarios"
   ]
  },
  {
   "cell_type": "markdown",
   "metadata": {},
   "source": [
    "### Ejercicio 1: Creación de diccionarios de Python"
   ]
  },
  {
   "cell_type": "code",
   "execution_count": 13,
   "metadata": {},
   "outputs": [
    {
     "name": "stdout",
     "output_type": "stream",
     "text": [
      "Nombre del Planeta: Mars\n",
      "Cantidad de Lunas: 2\n",
      "La circunferencia polar de Mars es: 6752\n"
     ]
    }
   ],
   "source": [
    "planet = {\n",
    "    'name': 'Mars',\n",
    "    'moons': 2\n",
    "}\n",
    "\n",
    "# Imprimir el dccionario completo\n",
    "#print(planet)\n",
    "\n",
    "# Imprimir la información usando el metodo de corchetes []\n",
    "#print(\"Nombre del Planeta:\",planet['name'])\n",
    "#print(\"Cantidad de Lunas:\",planet['moons'])\n",
    "\n",
    "# Imprimir la información usando el metodo get()\n",
    "#print(\"Nombre del Planeta:\",planet.get('name'))\n",
    "#print(\"Cantidad de Lunas:\",planet.get('moons'))\n",
    "\n",
    "# Imprimir la información usando combinado etodos y usando formato\n",
    "print(f\"Nombre del Planeta: {planet.get('name')}\")\n",
    "print(f\"Cantidad de Lunas: {planet['moons']}\")\n",
    "\n",
    "\n",
    "# Actualizar valores del Diccionario usando el metodo de corchetes []\n",
    "planet[\"circunferencia(km)\"] = {\"polar\":6752,\"equatorial\":6792}\n",
    "print(f\"La circunferencia polar de {planet.get('name')} es:\", planet[\"circunferencia(km)\"]['polar'])\n"
   ]
  },
  {
   "cell_type": "markdown",
   "metadata": {},
   "source": [
    "### Ejercicio 2: Programación dinámica con diccionarios"
   ]
  },
  {
   "cell_type": "code",
   "execution_count": 15,
   "metadata": {},
   "outputs": [
    {
     "name": "stdout",
     "output_type": "stream",
     "text": [
      "El total de Lunas de los 12 planetas en la lista es: 214\n",
      "En promedio, cada planeta tendría al rededor de: 18 lunas.\n"
     ]
    }
   ],
   "source": [
    "# Planets and moons\n",
    "\n",
    "planet_moons = {\n",
    "    'mercury': 0,\n",
    "    'venus': 0,\n",
    "    'earth': 1,\n",
    "    'mars': 2,\n",
    "    'jupiter': 79,\n",
    "    'saturn': 82,\n",
    "    'uranus': 27,\n",
    "    'neptune': 14,\n",
    "    'pluto': 5,\n",
    "    'haumea': 2,\n",
    "    'makemake': 1,\n",
    "    'eris': 1\n",
    "}\n",
    "\n",
    "moons = planet_moons.values()\n",
    "#print(moons)\n",
    "\n",
    "planets=len(planet_moons.keys())\n",
    "#print(planets)\n",
    "\n",
    "total_moons = 0\n",
    "\n",
    "for lunas in moons:\n",
    "    total_moons += lunas\n",
    "\n",
    "print(f\"El total de Lunas de los {planets} planetas en la lista es:\",total_moons)\n",
    "print(\"En promedio, cada planeta tendría al rededor de:\", round(total_moons/planets),\"lunas.\")\n",
    "\n"
   ]
  }
 ],
 "metadata": {
  "interpreter": {
   "hash": "73f60858b51192c185084ed275b02283c3468b584c8bb0c38576072f84c211b9"
  },
  "kernelspec": {
   "display_name": "Python 3.9.5 64-bit",
   "language": "python",
   "name": "python3"
  },
  "language_info": {
   "codemirror_mode": {
    "name": "ipython",
    "version": 3
   },
   "file_extension": ".py",
   "mimetype": "text/x-python",
   "name": "python",
   "nbconvert_exporter": "python",
   "pygments_lexer": "ipython3",
   "version": "3.9.5"
  },
  "orig_nbformat": 4
 },
 "nbformat": 4,
 "nbformat_minor": 2
}
