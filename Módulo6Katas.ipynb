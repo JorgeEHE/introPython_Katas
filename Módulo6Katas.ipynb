{
 "cells": [
  {
   "cell_type": "markdown",
   "metadata": {},
   "source": [
    "# Crear y usar listas"
   ]
  },
  {
   "cell_type": "markdown",
   "metadata": {},
   "source": [
    "### Ejercicio1: Crear y usar listas de Python"
   ]
  },
  {
   "cell_type": "code",
   "execution_count": 7,
   "metadata": {},
   "outputs": [
    {
     "name": "stdout",
     "output_type": "stream",
     "text": [
      "Existen:  8  planetas en el sitema solar\n",
      "Ahora son:  9 planetas.\n",
      "El último planeta en anexarse es:  Pluton\n"
     ]
    }
   ],
   "source": [
    "planets = ['Mercuruio','Venus','Tierra','Marte','Jupiter','Saturno','Urano','Neptuno']\n",
    "print(\"Existen: \",len(planets), \" planetas en el sitema solar\")\n",
    "\n",
    "planets.append('Pluton')\n",
    "long = len(planets)\n",
    "print(\"Ahora son: \",long, \"planetas.\")\n",
    "print(\"El último planeta en anexarse es: \", planets[-1])\n"
   ]
  },
  {
   "cell_type": "markdown",
   "metadata": {},
   "source": [
    "### Ejercicio 2: Trabajando con datos de una lista"
   ]
  },
  {
   "cell_type": "code",
   "execution_count": 1,
   "metadata": {},
   "outputs": [
    {
     "name": "stdout",
     "output_type": "stream",
     "text": [
      "Estos planetas estan más ceranos al Sol que  Jupiter : \n",
      " ['Mercury', 'Venus', 'Earth', 'Mars']\n",
      "Y estos planetas estan más alejados al Sol que  Jupiter : \n",
      " ['Saturn', 'Uranus', 'Neptune']\n"
     ]
    }
   ],
   "source": [
    "# Lista de planetas\n",
    "planets = ['Mercury', 'Venus', 'Earth', 'Mars', 'Jupiter', 'Saturn', 'Neptune']\n",
    "usrplnt = input(\"Introduce el nombre de un planeta (comienza con Mayúscula): \")\n",
    "\n",
    "usrplnt = usrplnt.title()\n",
    "indx = planets.index(usrplnt)\n",
    "#print(usrplnt)\n",
    "#print(indx)\n",
    "\n",
    "plntsbefr = planets[:indx]\n",
    "plntsaftr = planets[indx+1:]\n",
    "print(\"Estos planetas estan más ceranos al Sol que \", usrplnt,\": \\n\", plntsbefr)\n",
    "print(\"Y estos planetas estan más alejados al Sol que \", usrplnt,\": \\n\", plntsaftr)"
   ]
  },
  {
   "cell_type": "markdown",
   "metadata": {},
   "source": [
    "### Ejercicio 2 con validacion de datos introducidos por el usuario"
   ]
  },
  {
   "cell_type": "code",
   "execution_count": 4,
   "metadata": {},
   "outputs": [
    {
     "name": "stdout",
     "output_type": "stream",
     "text": [
      "Ese planeta: Lolo  no existe en nuestro Sistema Solar.\n",
      "Ese planeta: Marte  no existe en nuestro Sistema Solar.\n",
      "Estos planetas estan más ceranos al Sol que  Mars : \n",
      " ['Mercury', 'Venus', 'Earth']\n",
      "Y estos planetas estan más alejados al Sol que  Mars : \n",
      " ['Jupiter', 'Saturn', 'Neptune']\n"
     ]
    }
   ],
   "source": [
    "# Lista de planetas\n",
    "planets = ['Mercury', 'Venus', 'Earth', 'Mars', 'Jupiter', 'Saturn', 'Neptune']\n",
    "plntx = False\n",
    "\n",
    "# Validar si el planeta introducido existe en la lista, sino, preguntar nuevamente.\n",
    "while plntx == False:\n",
    "    usrplnt = input(\"Introduce el nombre de un planeta (comienza con Mayúscula): \")\n",
    "    usrplnt = usrplnt.title()\n",
    "    if usrplnt in planets:\n",
    "        plntx = True\n",
    "    else:\n",
    "        print(\"Ese planeta:\",usrplnt, \" no existe en nuestro Sistema Solar.\")\n",
    "            \n",
    "    \n",
    "indx = planets.index(usrplnt)\n",
    "#print(usrplnt)\n",
    "#print(indx)\n",
    "\n",
    "plntsbefr = planets[:indx]\n",
    "plntsaftr = planets[indx+1:]\n",
    "print(\"Estos planetas estan más ceranos al Sol que \", usrplnt,\": \\n\", plntsbefr)\n",
    "print(\"Y estos planetas estan más alejados al Sol que \", usrplnt,\": \\n\", plntsaftr)"
   ]
  }
 ],
 "metadata": {
  "interpreter": {
   "hash": "73f60858b51192c185084ed275b02283c3468b584c8bb0c38576072f84c211b9"
  },
  "kernelspec": {
   "display_name": "Python 3.9.5 64-bit",
   "language": "python",
   "name": "python3"
  },
  "language_info": {
   "codemirror_mode": {
    "name": "ipython",
    "version": 3
   },
   "file_extension": ".py",
   "mimetype": "text/x-python",
   "name": "python",
   "nbconvert_exporter": "python",
   "pygments_lexer": "ipython3",
   "version": "3.9.5"
  },
  "orig_nbformat": 4
 },
 "nbformat": 4,
 "nbformat_minor": 2
}
