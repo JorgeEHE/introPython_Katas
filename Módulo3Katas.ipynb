{
 "cells": [
  {
   "cell_type": "markdown",
   "metadata": {},
   "source": [
    "# Escribir declaraciones if, else, y elif"
   ]
  },
  {
   "cell_type": "markdown",
   "metadata": {},
   "source": [
    "#### Advertencia de Asteroide acercandose a la Tierra demasiado rápido"
   ]
  },
  {
   "cell_type": "code",
   "execution_count": 8,
   "metadata": {},
   "outputs": [
    {
     "name": "stdout",
     "output_type": "stream",
     "text": [
      "Alerta: Asteroide acercandose a la Tierra demasiado rápido!\n"
     ]
    }
   ],
   "source": [
    "astspeed = 49\n",
    "\n",
    "if (astspeed > 25):\n",
    "    print(\"Alerta: Asteroide acercandose a la Tierra demasiado rápido!\")\n",
    "else:\n",
    "    print(\"Todo tranquilo por aqui...\")   "
   ]
  },
  {
   "cell_type": "markdown",
   "metadata": {},
   "source": [
    "#### Alerta de asteroide visible en el cielo"
   ]
  },
  {
   "cell_type": "code",
   "execution_count": 9,
   "metadata": {},
   "outputs": [
    {
     "name": "stdout",
     "output_type": "stream",
     "text": [
      "Atencion!!! Miren al cielo en busca de un Asteroide!.\n"
     ]
    }
   ],
   "source": [
    "astspeed = 20\n",
    "eartp = True\n",
    "\n",
    "if (eartp == True):\n",
    "    if(astspeed >= 20):\n",
    "        print(\"Atencion!!! Miren al cielo en busca de un Asteroide!.\")\n",
    "    elif(astspeed < 20):\n",
    "        print(\"Nada que ver por aqui...\")\n",
    "else:\n",
    "    print(\"Cielo despejado\")"
   ]
  },
  {
   "cell_type": "markdown",
   "metadata": {},
   "source": [
    "#### Nueva alerta: Peligro inminente de Destruccion Masiva!"
   ]
  },
  {
   "cell_type": "code",
   "execution_count": 26,
   "metadata": {},
   "outputs": [
    {
     "name": "stdout",
     "output_type": "stream",
     "text": [
      "ALERTA: Asteroide de dimensiones Peligrosas acercandose a la Tierra demasiado rápido.\n",
      "RIESGO INMINENTE DE IMPACTO, Asterisco entro en la Atmosfera Terreste.\n",
      "Despidase de los suyos, TODOS VAMOS A MORIR!!!\n"
     ]
    }
   ],
   "source": [
    "astdim = 40\n",
    "astspeed = 55\n",
    "eartp = True\n",
    "    \n",
    "if ((astspeed > 25) and (astdim < 25)):\n",
    "    print(\"Alerta: Asteroide acercandose a la Tierra demasiado rápido.\")\n",
    "\n",
    "elif ((astspeed > 25) and (astdim >= 25)):\n",
    "    print(\"ALERTA: Asteroide de dimensiones Peligrosas acercandose a la Tierra demasiado rápido.\")\n",
    "    if((astspeed > 25) and (astdim >= 25) and (eartp == True)):\n",
    "        print(\"RIESGO INMINENTE DE IMPACTO, Asterisco entro en la Atmosfera Terreste.\")\n",
    "        print(\"Despidase de los suyos, TODOS VAMOS A MORIR!!!\")\n",
    "\n",
    "elif ((astspeed >= 20) and (eartp == True) and (astdim < 25)):\n",
    "    print(\"Atencion!!! Miren al cielo en busca de un Asteroide!.\")\n",
    "\n",
    "elif ((astspeed < 20) and (eartp == True) and (astdim < 25)):\n",
    "    print(\"Nada que ver por aquí...\")\n",
    "    \n",
    "else:\n",
    "    print(\"Todo tranquilo por aqui...\")\n"
   ]
  }
 ],
 "metadata": {
  "interpreter": {
   "hash": "73f60858b51192c185084ed275b02283c3468b584c8bb0c38576072f84c211b9"
  },
  "kernelspec": {
   "display_name": "Python 3.9.5 64-bit",
   "language": "python",
   "name": "python3"
  },
  "language_info": {
   "codemirror_mode": {
    "name": "ipython",
    "version": 3
   },
   "file_extension": ".py",
   "mimetype": "text/x-python",
   "name": "python",
   "nbconvert_exporter": "python",
   "pygments_lexer": "ipython3",
   "version": "3.9.5"
  },
  "orig_nbformat": 4
 },
 "nbformat": 4,
 "nbformat_minor": 2
}
