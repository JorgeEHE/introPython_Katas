{
 "cells": [
  {
   "cell_type": "markdown",
   "metadata": {},
   "source": [
    "### Ejercicio 1: Transformar Cademas"
   ]
  },
  {
   "cell_type": "code",
   "execution_count": 1,
   "metadata": {},
   "outputs": [
    {
     "name": "stdout",
     "output_type": "stream",
     "text": [
      " \n",
      "On average, the Moon moves 4cm away from the Earth every year\n",
      " The highest daylight temperature of the Moon is 127 C\n",
      " \n",
      "On average, the Moon moves 4cm away from the Earth every year\n",
      " The highest daylight temperature of the Moon is 127 Celsius\n"
     ]
    }
   ],
   "source": [
    "text = \"\"\"Interesting facts about the Moon. The Moon is Earth's only satellite. There are several interesting facts about the Moon and how it affects life here on Earth. \n",
    "On average, the Moon moves 4cm away from the Earth every year. This yearly drift is not significant enough to cause immediate effects on Earth. The highest daylight temperature of the Moon is 127 C.\"\"\"\n",
    "\n",
    "# Dividir el Teto en cadenas asignandolo a una nueva variable\n",
    "frases=text.split('.')\n",
    "\n",
    "\n",
    "#print(frases)\n",
    "#cont=text.count('.')\n",
    "#print(\"Hay \", cont, \"frases en el Texto.\")\n",
    "\n",
    "# Palabras clave a buscar\n",
    "kewywords = ['average','temperature','distance']\n",
    "\n",
    "#for f in text.split('.'):\n",
    "#    print(f)\n",
    "#for k in kewywords:\n",
    "#    print(k)\n",
    "\n",
    "# Recorrer las frases, buscar las palabras clave e imprimir\n",
    "# las frases que contengan estas palabras\n",
    "for f in frases:\n",
    "    for k in kewywords:\n",
    "        if k in f:\n",
    "           print(f)\n",
    "           \n",
    "\n",
    "# Recorrer las frases, buscar las palabras clave e imprimir\n",
    "# las frases que contengan estas palabras y cambiar C a Celsius\n",
    "for f in frases:\n",
    "    for k in kewywords:\n",
    "        if k in f:\n",
    "           print(f.replace('C','Celsius'))\n"
   ]
  },
  {
   "cell_type": "markdown",
   "metadata": {},
   "source": [
    "### Ejercicio 2: Formateando Cadenas"
   ]
  },
  {
   "cell_type": "code",
   "execution_count": 2,
   "metadata": {},
   "outputs": [
    {
     "name": "stdout",
     "output_type": "stream",
     "text": [
      "Datos de la Gravedad en la Luna.\n",
      " -----------------------------------\n",
      "Nombre del Planeta: Tierra\n",
      "Gravedad en la Luna: 1.62 m/s2\n",
      "\n",
      "<<Se introducen nuevos datos de prueba>>\n",
      "Datos de la Gravedad en la Luna.\n",
      " -----------------------------------\n",
      "Nombre del Planeta: Tierra\n",
      "Gravedad en la Luna: 1.62 m/s2\n",
      "\n",
      "<<Se modifica plantilla con uso de format(varX=variableX)>>\n",
      "Datos de la Gravedad en el Satelite: Gamínides.\n",
      "-----------------------------------\n",
      "Nombre del Planeta: Marte\n",
      "Gravedad en el Satelite Gamínides: 1.43 m/s2\n",
      "\n"
     ]
    }
   ],
   "source": [
    "# Datos con los que vas a trabajar\n",
    "name = \"Luna\"\n",
    "gravity = 0.00162 # in kms\n",
    "planet = \"Tierra\"\n",
    "\n",
    "# Titulo de la informacion\n",
    "title = f'Datos de la Gravedad en la {name}.\\n'\n",
    "\n",
    "# Plantilla para insertar datos\n",
    "plantilla = f\"\"\"-----------------------------------\n",
    "Nombre del Planeta: {planet}\n",
    "Gravedad en la {name}: {round(gravity*1000,2)} m/s2\\n\"\"\"\n",
    "\n",
    "# Union de los datos\n",
    "print(title,plantilla)\n",
    "\n",
    "#Nuevos datos de Prueba\n",
    "print(\"<<Se introducen nuevos datos de prueba>>\")\n",
    "name = \"Gamínides\"\n",
    "gravity = 0.00143 # in kms\n",
    "planet = \"Marte\"\n",
    "\n",
    "print(title,plantilla)\n",
    "\n",
    "print(\"<<Se modifica plantilla con uso de format(varX=variableX)>>\")\n",
    "gravityr = round(gravity*1000,2) \n",
    "nuevaplan = \"\"\"Datos de la Gravedad en el Satelite: {nluna}.\n",
    "-----------------------------------\n",
    "Nombre del Planeta: {nplan}\n",
    "Gravedad en el Satelite {nluna}: {fixgrav} m/s2\\n\"\"\"\n",
    "print(nuevaplan.format(nluna=name,nplan=planet,fixgrav=gravityr))\n",
    "\n",
    "\n",
    "#Nuevos datos de Prueba\n",
    "#name = \"Luna\"\n",
    "#gravity = 0.00162 # in kms\n",
    "#planet = \"Tierra\"\n",
    "#gravityr = round(gravity*1000,2)\n",
    "#print(\"<<Se introducen nuevos datos de prueba>>\")\n",
    "#print(nuevaplan.format(nluna=name,nplan=planet,fixgrav=gravityr))\n",
    "\n"
   ]
  }
 ],
 "metadata": {
  "interpreter": {
   "hash": "73f60858b51192c185084ed275b02283c3468b584c8bb0c38576072f84c211b9"
  },
  "kernelspec": {
   "display_name": "Python 3.9.5 64-bit",
   "language": "python",
   "name": "python3"
  },
  "language_info": {
   "codemirror_mode": {
    "name": "ipython",
    "version": 3
   },
   "file_extension": ".py",
   "mimetype": "text/x-python",
   "name": "python",
   "nbconvert_exporter": "python",
   "pygments_lexer": "ipython3",
   "version": "3.9.5"
  },
  "orig_nbformat": 4
 },
 "nbformat": 4,
 "nbformat_minor": 2
}
