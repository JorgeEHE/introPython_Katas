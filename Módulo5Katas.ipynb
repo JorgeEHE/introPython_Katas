{
 "cells": [
  {
   "cell_type": "markdown",
   "metadata": {},
   "source": [
    "# Uso de operadores Matematicos"
   ]
  },
  {
   "cell_type": "markdown",
   "metadata": {},
   "source": [
    "### Ejercicio1 - Utilizar operadores aritméticos"
   ]
  },
  {
   "cell_type": "code",
   "execution_count": null,
   "metadata": {},
   "outputs": [],
   "source": [
    "disTS = 149597870 #km \n",
    "disJS = 778547200 #km\n",
    "\n",
    "print(\"La distancia entre Tierra y Jupiter es: \", abs(disTS-disJS),\"kilometros\")\n",
    "print(\"La distancia entre Tierra y Jupiter es: \", (abs(disTS-disJS)*.621),\"Millas\")"
   ]
  },
  {
   "cell_type": "markdown",
   "metadata": {},
   "source": [
    "### Ejercicio 2: convierte cadenas en números y usa valores absolutos"
   ]
  },
  {
   "cell_type": "code",
   "execution_count": 7,
   "metadata": {},
   "outputs": [
    {
     "name": "stdout",
     "output_type": "stream",
     "text": [
      "La distancia entre ambos planetas es:  391600000 kilometros\n",
      "La distancia entre ambos planetas es:  243183600.0 Millas\n"
     ]
    }
   ],
   "source": [
    "distP1 = int(input(\"Introduce la distancia que hay entre el Sol y el primer planeta: \"))\n",
    "distP2 = int(input(\"Introduce la distancia que hay entre el Sol y el segundo planeta: \"))\n",
    "\n",
    "print(\"La distancia entre ambos planetas es: \", abs(distP1-distP2),\"kilometros\")\n",
    "print(\"La distancia entre ambos planetas es: \", (abs(distP1-distP2)*.621),\"Millas\")"
   ]
  }
 ],
 "metadata": {
  "interpreter": {
   "hash": "73f60858b51192c185084ed275b02283c3468b584c8bb0c38576072f84c211b9"
  },
  "kernelspec": {
   "display_name": "Python 3.9.5 64-bit",
   "language": "python",
   "name": "python3"
  },
  "language_info": {
   "codemirror_mode": {
    "name": "ipython",
    "version": 3
   },
   "file_extension": ".py",
   "mimetype": "text/x-python",
   "name": "python",
   "nbconvert_exporter": "python",
   "pygments_lexer": "ipython3",
   "version": "3.9.5"
  },
  "orig_nbformat": 4
 },
 "nbformat": 4,
 "nbformat_minor": 2
}
