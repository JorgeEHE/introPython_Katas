{
 "cells": [
  {
   "cell_type": "markdown",
   "metadata": {},
   "source": [
    "# Uso de funciones en Python"
   ]
  },
  {
   "cell_type": "markdown",
   "metadata": {},
   "source": [
    "### Ejercicio 1: Trabajar con argumentos en funciones"
   ]
  },
  {
   "cell_type": "code",
   "execution_count": 5,
   "metadata": {},
   "outputs": [
    {
     "name": "stdout",
     "output_type": "stream",
     "text": [
      "El promedio estimado del combustible en las tres zonas es: 50 litros.\n"
     ]
    }
   ],
   "source": [
    "# Función para leer 3 tanques de combustible y muestre el promedio\n",
    "\n",
    "def comRestProm(comZon1,combZon2,comZon3):\n",
    "    totComb = comZon1+combZon2+comZon3\n",
    "    promComb = totComb/3\n",
    "    return (f'El promedio estimado del combustible en las tres zonas es: {round(promComb)} litros.')\n",
    "\n",
    "print(comRestProm(54,84,13))\n"
   ]
  },
  {
   "cell_type": "code",
   "execution_count": 7,
   "metadata": {},
   "outputs": [
    {
     "name": "stdout",
     "output_type": "stream",
     "text": [
      "El promedio estimado del combustible es: 50 litros.\n"
     ]
    }
   ],
   "source": [
    "# Función para leer 3 tanques de combustible y muestre el promedio en base al resultado de otra funcion\n",
    "\n",
    "def promedio(combInTanq):\n",
    "    totComb = 0\n",
    "    totTanq = len(combInTanq)\n",
    "    \n",
    "    for tanq in combInTanq:\n",
    "        totComb += tanq\n",
    "        \n",
    "    return (totComb/totTanq)\n",
    "    \n",
    "\n",
    "def comRestProm(comZon1,combZon2,comZon3):\n",
    "    prom = promedio([comZon1,combZon2,comZon3])\n",
    "    return (f'El promedio estimado del combustible es: {round(prom)} litros.')\n",
    "\n",
    "print(comRestProm(54,84,13))\n"
   ]
  },
  {
   "cell_type": "markdown",
   "metadata": {},
   "source": [
    "### Ejercicio 2: Trabajo con argumentos de palabra clave"
   ]
  },
  {
   "cell_type": "code",
   "execution_count": 22,
   "metadata": {},
   "outputs": [
    {
     "name": "stdout",
     "output_type": "stream",
     "text": [
      "\n",
      "           Reporte de Mision:\n",
      "           Destino: Luna\n",
      "           Hora de despegue: 15:46:23\n",
      "           Tiempo de Vuelo: 23:37:12\n",
      "           Hora aproximada de arrivo: 1 day, 15:23:35\n",
      "           Combustible en Tanque Interno: 950000 litros\n",
      "           Combustible en Tanque Externo: 458000 litros\n",
      "           Combustible Total: 1408000\n",
      "                     \n",
      "           \n"
     ]
    }
   ],
   "source": [
    "# Función con un informe preciso de la misión. Considera hora de prelanzamiento, tiempo de vuelo, destino, tanque externo y tanque interno\n",
    "import datetime\n",
    "\n",
    "def estatus(despegue,tvuelo,destino,tanqxt,tanqin):\n",
    "    timdes=despegue.split(\":\")\n",
    "    horD = int(timdes[0])\n",
    "    minD = int(timdes[1])\n",
    "    secD = int(timdes[2])\n",
    "    \n",
    "    timarr=tvuelo.split(\":\")\n",
    "    horA = int(timarr[0])\n",
    "    minA = int(timarr[1])\n",
    "    secA = int(timarr[2])\n",
    "    \n",
    "    tDesp = datetime.timedelta(hours=horD,minutes=minD,seconds=secD) \n",
    "    tArri = datetime.timedelta(hours=horA,minutes=minA,seconds=secA)\n",
    "    #print(tDesp)\n",
    "    #print(tArri)\n",
    "    #print(tDesp+tArri)\n",
    "    desTime = tDesp+tArri\n",
    "    \n",
    "    return(f\"\"\"\n",
    "           Reporte de Mision:\n",
    "           Destino: {destino}\n",
    "           Hora de despegue: {tDesp}\n",
    "           Tiempo de Vuelo: {tArri}\n",
    "           Hora aproximada de arrivo: {desTime}\n",
    "           Combustible en Tanque Interno: {tanqin} litros\n",
    "           Combustible en Tanque Externo: {tanqxt} litros\n",
    "           Combustible Total: {(tanqxt+tanqin)}\n",
    "                     \n",
    "           \"\"\")\n",
    "\n",
    "\n",
    "#https://www.programiz.com/python-programming/datetime\n",
    "# time(hour = 0, minute = 0, second = 0)\n",
    "\n",
    "print(estatus(\"15:46:23\",\"23:37:12\",\"Luna\",458000,950000))"
   ]
  },
  {
   "cell_type": "code",
   "execution_count": 39,
   "metadata": {},
   "outputs": [
    {
     "name": "stdout",
     "output_type": "stream",
     "text": [
      "\n",
      "           Reporte de Mision:\n",
      "           Destino: Luna\n",
      "           Tiempo Total de Vuelo: 8 horas, 38 minutos \n",
      "           Total de combustible en los Tanques: 314000 litros\n",
      "           \n"
     ]
    }
   ],
   "source": [
    "# Función con un informe preciso de la misión. Considerar trayestos de vuelo y tanques adicionales de combustible\n",
    "import datetime\n",
    "\n",
    "def estatus2(destino,*minVue,**combTanq):\n",
    "    totMin = 0\n",
    "    for trayVue in minVue:\n",
    "        totMin += trayVue\n",
    "    \n",
    "    ttVuel = datetime.timedelta(hours=0,minutes=totMin,seconds=0)\n",
    "    hors = ttVuel.seconds//3600\n",
    "    mins = ttVuel.seconds/60 - hors*60\n",
    "    \n",
    "    combus = combTanq.values()\n",
    "    totComb = 0\n",
    "    for comb in combus:\n",
    "        totComb += comb\n",
    "    \n",
    "    #totComb = sum(combTanq.values())\n",
    "    \n",
    "    return(f\"\"\"\n",
    "           Reporte de Mision:\n",
    "           Destino: {destino}\n",
    "           Tiempo Total de Vuelo: {hors} horas, {int(mins)} minutos \n",
    "           Total de combustible en los Tanques: {totComb} litros\n",
    "           \"\"\")\n",
    "\n",
    "\n",
    "#https://www.programiz.com/python-programming/datetime\n",
    "# time(hour = 0, minute = 0, second = 0)\n",
    "\n",
    "print(estatus2(\"Luna\",67,89,26,45,37,98,156,principal=84000,secundario=80000,externo=50000,extra=100000))"
   ]
  },
  {
   "cell_type": "code",
   "execution_count": 64,
   "metadata": {},
   "outputs": [
    {
     "name": "stdout",
     "output_type": "stream",
     "text": [
      "\n",
      "           Reporte de Mision:\n",
      "           Destino: Luna\n",
      "           Tiempo Total de Vuelo: 8 horas, 38 minutos\n",
      "           Total de combustible en los Tanques: 314000 litros\n",
      "           Distribuidos en:\n",
      "           Tanque principal: 84000 litros\n",
      "Tanque secundario: 80000 litros\n",
      "Tanque externo: 50000 litros\n",
      "Tanque extra: 100000 litros\n",
      "\n",
      "           \n"
     ]
    }
   ],
   "source": [
    "# Función con un informe preciso de la misión. Considerar trayestos de vuelo y tanques adicionales de combustible\n",
    "import datetime\n",
    "\n",
    "def repoTanq (**infoTanq):\n",
    "    tanqRepo = \"\"    \n",
    "    for nombTanq,litTanq in infoTanq.items():\n",
    "        tanqRepo += f\"Tanque {nombTanq}: {litTanq} litros\\n\"\n",
    "    return tanqRepo\n",
    "#print(repoTanq(principal=84000,secundario=80000,externo=50000,extra=100000))\n",
    "\n",
    "\n",
    "def estatus2(destino,*minVue,**combTanq):\n",
    "    totMin = 0\n",
    "    for trayVue in minVue:\n",
    "        totMin += trayVue\n",
    "    \n",
    "    ttVuel = datetime.timedelta(hours=0,minutes=totMin,seconds=0)\n",
    "    hors = ttVuel.seconds//3600\n",
    "    mins = ttVuel.seconds/60 - hors*60\n",
    "    \n",
    "    combus = combTanq.values()\n",
    "    totComb = 0\n",
    "    for comb in combus:\n",
    "        totComb += comb\n",
    "    #totComb = sum(combTanq.values())\n",
    "    \n",
    "    #repoTanq(**combTanq)\n",
    "    \n",
    "    return(f\"\"\"\n",
    "           Reporte de Mision:\n",
    "           Destino: {destino}\n",
    "           Tiempo Total de Vuelo: {hors} horas, {int(mins)} minutos\n",
    "           Total de combustible en los Tanques: {totComb} litros\n",
    "           Distribuidos en:\n",
    "           {repoTanq(**combTanq)}\n",
    "           \"\"\")\n",
    "\n",
    "\n",
    "print(estatus2(\"Luna\",67,89,26,45,37,98,156,principal=84000,secundario=80000,externo=50000,extra=100000))"
   ]
  }
 ],
 "metadata": {
  "interpreter": {
   "hash": "73f60858b51192c185084ed275b02283c3468b584c8bb0c38576072f84c211b9"
  },
  "kernelspec": {
   "display_name": "Python 3.9.5 64-bit",
   "language": "python",
   "name": "python3"
  },
  "language_info": {
   "codemirror_mode": {
    "name": "ipython",
    "version": 3
   },
   "file_extension": ".py",
   "mimetype": "text/x-python",
   "name": "python",
   "nbconvert_exporter": "python",
   "pygments_lexer": "ipython3",
   "version": "3.9.5"
  },
  "orig_nbformat": 4
 },
 "nbformat": 4,
 "nbformat_minor": 2
}
